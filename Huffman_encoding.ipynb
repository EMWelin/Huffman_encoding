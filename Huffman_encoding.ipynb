{
  "nbformat": 4,
  "nbformat_minor": 0,
  "metadata": {
    "colab": {
      "provenance": []
    },
    "kernelspec": {
      "name": "python3",
      "display_name": "Python 3"
    },
    "language_info": {
      "name": "python"
    }
  },
  "cells": [
    {
      "cell_type": "markdown",
      "source": [
        "# Introduction\n",
        "\n",
        "Encoding / decoding pipeline using Huffman Code.\n",
        "\n",
        "Erik Martin Welin, 2025-05"
      ],
      "metadata": {
        "id": "mAxydKx_yp16"
      }
    },
    {
      "cell_type": "code",
      "source": [
        "# Definition of binary tree node for this problem.\n",
        "\n",
        "class Node:\n",
        "    def __init__(self, freq, symbol=None, left=None, right=None):\n",
        "        self.freq = freq\n",
        "        self.symbol = symbol\n",
        "        self.left = left\n",
        "        self.right = right\n",
        "\n",
        "# lt lets the heap know how to compare nodes for the purposes of priority.\n",
        "\n",
        "    def __lt__(self, other):\n",
        "        return self.freq < other.freq"
      ],
      "metadata": {
        "id": "_b-TOHAyJtKv"
      },
      "execution_count": 168,
      "outputs": []
    },
    {
      "cell_type": "code",
      "source": [
        "# Fetch document to encode.\n",
        "\n",
        "# This block is optional. You can comment it out and set your own document path\n",
        "\n",
        "import os\n",
        "\n",
        "root = '/content' # /content is the root dir in Google Colab.\n",
        "\n",
        "document = os.path.join(root, 'text/Illiad_song1_Planet_Ebook.docx')\n",
        "\n",
        "assert os.path.exists(document), 'make sure the document path describes a valid file.docx'"
      ],
      "metadata": {
        "id": "9f-rqmKjQv8T"
      },
      "execution_count": 169,
      "outputs": []
    },
    {
      "cell_type": "code",
      "source": [
        "! pip install docx2txt"
      ],
      "metadata": {
        "colab": {
          "base_uri": "https://localhost:8080/"
        },
        "id": "1oh1YPCzSHO8",
        "outputId": "1170e0d9-67d8-4c95-d3b1-40a37a855ed8"
      },
      "execution_count": 170,
      "outputs": [
        {
          "output_type": "stream",
          "name": "stdout",
          "text": [
            "Requirement already satisfied: docx2txt in /usr/local/lib/python3.11/dist-packages (0.9)\n"
          ]
        }
      ]
    },
    {
      "cell_type": "code",
      "source": [
        "import docx2txt\n",
        "\n",
        "s = docx2txt.process(document)"
      ],
      "metadata": {
        "id": "jCH00CuNRnS8"
      },
      "execution_count": 171,
      "outputs": []
    },
    {
      "cell_type": "code",
      "source": [
        "from collections import Counter\n",
        "\n",
        "freqs = Counter(s)\n",
        "\n",
        "total = sum(freqs.values())\n",
        "source = {}\n",
        "for key, val in freqs.items():\n",
        "  source[key] = val / total"
      ],
      "metadata": {
        "id": "SsFgBdGyoj6k"
      },
      "execution_count": 172,
      "outputs": []
    },
    {
      "cell_type": "code",
      "source": [
        "# Implementation of the Huffman algorithm using a prio q and a binary tree.\n",
        "\n",
        "import heapq\n",
        "\n",
        "\n",
        "def Huffman_algorithm(source):\n",
        "\n",
        "  # create leaf nodes for the source and add them to the heap.\n",
        "\n",
        "  heap = []\n",
        "\n",
        "  for key, val in source.items():\n",
        "    leaf = Node(freq = val, symbol = key)\n",
        "    heapq.heappush(heap, leaf)\n",
        "\n",
        "\n",
        "  while len(heap) >1 :\n",
        "    left = heapq.heappop(heap)\n",
        "    right = heapq.heappop(heap)\n",
        "\n",
        "    # create parent node with combined probabilities of the previous and\n",
        "    # push the new node to the heap\n",
        "\n",
        "    new_node = Node(freq = left.freq + right.freq, left = left, right = right)\n",
        "    heapq.heappush(heap, new_node)\n",
        "\n",
        "  # at this point only the root remains.\n",
        "\n",
        "  root = heapq.heappop(heap)\n",
        "  assert len(heap) == 0\n",
        "\n",
        "  return root\n",
        "\n",
        "root = Huffman_algorithm(source)"
      ],
      "metadata": {
        "id": "gobpEY8e_Lp4"
      },
      "execution_count": 173,
      "outputs": []
    },
    {
      "cell_type": "code",
      "source": [
        "# build codewords by traversing the binary tree.\n",
        "# Assign 0 for a left path and 1 for a right path.\n",
        "\n",
        "def build_codewords(node, map_dict, path_so_far = \"\" ):\n",
        "\n",
        "    # if node is a leaf:\n",
        "    #     save mapping: symbol --> codeword\n",
        "\n",
        "    if node.left is None and node.right is None:\n",
        "        map_dict[node.symbol] = path_so_far\n",
        "\n",
        "    # else:\n",
        "    #     continue traversing.\n",
        "\n",
        "    else:\n",
        "        build_codewords(node.left, map_dict, path_so_far + '0')\n",
        "        build_codewords(node.right,  map_dict, path_so_far + '1')\n",
        "\n",
        "map_dict = {}\n",
        "build_codewords(root, map_dict)"
      ],
      "metadata": {
        "id": "EunlzQLZSbwM"
      },
      "execution_count": 174,
      "outputs": []
    },
    {
      "cell_type": "markdown",
      "source": [
        "# Compute the average code-length and compare it to the Shannon entropy.\n",
        "\n"
      ],
      "metadata": {
        "id": "led4EZUOm5gi"
      }
    },
    {
      "cell_type": "code",
      "source": [
        "\"\"\"\n",
        "the theoretical bounds on the average code length L is\n",
        "H <= L <= H +1 bits\n",
        "Where H is the Shannon entropy of the source.\n",
        "\"\"\""
      ],
      "metadata": {
        "id": "JCuytwzBnHqX",
        "colab": {
          "base_uri": "https://localhost:8080/",
          "height": 35
        },
        "outputId": "b64099c7-17c5-40dd-80f6-016f1254d55b"
      },
      "execution_count": 175,
      "outputs": [
        {
          "output_type": "execute_result",
          "data": {
            "text/plain": [
              "'\\nthe theoretical bounds on the average code length L is\\nH <= L <= H +1 bits\\nWhere H is the Shannon entropy of the source.\\n'"
            ],
            "application/vnd.google.colaboratory.intrinsic+json": {
              "type": "string"
            }
          },
          "metadata": {},
          "execution_count": 175
        }
      ]
    },
    {
      "cell_type": "code",
      "source": [
        "import math\n",
        "\n",
        "\"\"\"\n",
        "this function:\n",
        "given a list of estimated probabilities, calculate Shannon Entropy in bits.\n",
        "\n",
        "0 log(0) is mathematically undefined but:\n",
        "in the limit as x in xlog(x) goes to 0+ the expression evaluates to 0.\n",
        "As a consequence, only p(x) for x > 0 contributes to the entropy.\n",
        "\"\"\"\n",
        "\n",
        "\n",
        "def entropy(lst):\n",
        "  return -sum(x * math.log2(x) for x in lst if x > 0)\n"
      ],
      "metadata": {
        "id": "92Ky4ayaU3dn"
      },
      "execution_count": 176,
      "outputs": []
    },
    {
      "cell_type": "code",
      "source": [
        "# Compute average code length L and compare it to the entropy H\n",
        "\n",
        "L = 0\n",
        "\n",
        "for symbol, probability in source.items():\n",
        "  L += probability * len( map_dict[symbol] )\n",
        "\n",
        "probabilities = list(source.values())\n",
        "H = entropy(probabilities)\n",
        "error = abs(H - L)\n",
        "\n",
        "print(f\"{'Average codword length:':<30}{L:>8.3f} bits\")\n",
        "print('\\n')\n",
        "print(f\"Theoretical bounds on the average code length given by the entropy:\\n\")\n",
        "print(f\"{'Lower:':<30}{H:>8.3f} bits\")\n",
        "print(f\"{'Upper:':<30}{(H + 1):>8.3f} bits\\n\")\n",
        "print(f\"{'Absolute error:':<30}{error:>8.3f} bits\")"
      ],
      "metadata": {
        "colab": {
          "base_uri": "https://localhost:8080/"
        },
        "id": "iEEx19g8nLAW",
        "outputId": "741beeb4-5c3b-4835-83fa-284983508f8a"
      },
      "execution_count": 177,
      "outputs": [
        {
          "output_type": "stream",
          "name": "stdout",
          "text": [
            "Average codword length:          4.365 bits\n",
            "\n",
            "\n",
            "Theoretical bounds on the average code length given by the entropy:\n",
            "\n",
            "Lower:                           4.328 bits\n",
            "Upper:                           5.328 bits\n",
            "\n",
            "Absolute error:                  0.037 bits\n"
          ]
        }
      ]
    },
    {
      "cell_type": "markdown",
      "source": [
        "# Go from bitstream to bytes.\n",
        "\n",
        "Create a list of bytes from my bitstring. Pad the length of the last byte to 8 (one byte).\n"
      ],
      "metadata": {
        "id": "wt5Abmx9uwu7"
      }
    },
    {
      "cell_type": "code",
      "source": [
        "bitstring = ''\n",
        "\n",
        "for symbol in s:\n",
        "  bitstring = bitstring + (map_dict[symbol])\n",
        "\n",
        "# 8-len(s)%8 adds an additional byte when len(s)%8 == 0.\n",
        "# taking modulo 8 again avoids this inconvinience.\n",
        "\n",
        "padding = (8-len(bitstring)%8) % 8\n",
        "bitstring_padded = bitstring + \"0\" * padding\n",
        "\n",
        "assert len(bitstring_padded)%8 == 0\n",
        "\n",
        "# convert the bitstring to bytes and store in a list.\n",
        "# int(s,2) converts the binary string, s, to integer.\n",
        "\n",
        "byte_list = [\n",
        "    int(bitstring_padded[i:i+8], 2)\n",
        "    for i in range(0, len(bitstring_padded), 8)\n",
        "]\n",
        "byte_list[:5]"
      ],
      "metadata": {
        "colab": {
          "base_uri": "https://localhost:8080/"
        },
        "id": "T7aZWALZ6qLl",
        "outputId": "40d39000-8703-464b-9480-2ad293c0c518"
      },
      "execution_count": 178,
      "outputs": [
        {
          "output_type": "execute_result",
          "data": {
            "text/plain": [
              "[129, 54, 145, 70, 66]"
            ]
          },
          "metadata": {},
          "execution_count": 178
        }
      ]
    },
    {
      "cell_type": "markdown",
      "source": [
        "# Decoding\n",
        "\n",
        "Decode the encoded byte-stream. This decoding scheme works if and only if map_dict describes a prefix free code, such as the Huffman code."
      ],
      "metadata": {
        "id": "jLuincg7r1dp"
      }
    },
    {
      "cell_type": "code",
      "source": [
        "r_bitstring = ''\n",
        "\n",
        "r_bitstring = ''.join(f'{byte:08b}' for byte in byte_list)\n",
        "\n",
        "# remove the padded bits\n",
        "\n",
        "r_bitstring = r_bitstring[:-padding]"
      ],
      "metadata": {
        "id": "byLDCDKmCJhr"
      },
      "execution_count": 179,
      "outputs": []
    },
    {
      "cell_type": "code",
      "source": [
        "# build dict reverse_mapping:\n",
        "# reverse_mapping[bitstring] = symbol\n",
        "\n",
        "reverse_mapping = {value: key for key,value in map_dict.items()}\n",
        "\n",
        "# build codewords from the bitstream.\n",
        "\n",
        "decoded_string = ''\n",
        "temp_codeword = ''\n",
        "\n",
        "for bit in r_bitstring:\n",
        "  temp_codeword = temp_codeword + bit\n",
        "  if temp_codeword in reverse_mapping:\n",
        "    decoded_string += reverse_mapping[temp_codeword]\n",
        "    temp_codeword = ''"
      ],
      "metadata": {
        "id": "33_tVDsqKieK"
      },
      "execution_count": 180,
      "outputs": []
    },
    {
      "cell_type": "code",
      "source": [
        "print(decoded_string[:3000])"
      ],
      "metadata": {
        "colab": {
          "base_uri": "https://localhost:8080/"
        },
        "id": "QiO9_wRuTXjL",
        "outputId": "a177ad29-4c38-4a9c-99a5-092a3fb45517"
      },
      "execution_count": 181,
      "outputs": [
        {
          "output_type": "stream",
          "name": "stdout",
          "text": [
            "Sing, O goddess, the anger of Achilles son of Peleus, that  \n",
            "\n",
            "brought countless ills upon the Achaeans. Many a brave  soul did it send hurrying down to Hades, and many a hero  did it yield a prey to dogs and vultures, for so were the  counsels of Jove fulfilled from the day on which the son of  Atreus, king of men, and great Achilles, first fell out with  one another. \n",
            "\n",
            "And which of the gods was it that set them on to quar rel? It was the son of Jove and Leto; for he was angry with  the king and sent a pestilence upon the host to plague the  people, because the son of Atreus had dishonoured Chry ses his priest. Now Chryses had come to the ships of the  Achaeans to free his daughter, and had brought with him a  great ransom: moreover he bore in his hand the sceptre of  Apollo wreathed with a suppliant’s wreath, and he besought  the Achaeans, but most of all the two sons of Atreus, who  were their chiefs. \n",
            "\n",
            "‘Sons of Atreus,’ he cried, ‘and all other Achaeans, may  the gods who dwell in Olympus grant you to sack the city  of Priam, and to reach your homes in safety; but free my  daughter, and accept a ransom for her, in reverence to Apol lo, son of Jove.’ \n",
            "\n",
            "On this the rest of the Achaeans with one voice were for  respecting the priest and taking the ransom that he offered; \n",
            "\n",
            "  The Iliad \n",
            "\n",
            "but not so Agamemnon, who spoke fiercely to him and sent  him roughly away. ‘Old man,’ said he, ‘let me not find you  tarrying about our ships, nor yet coming hereafter. Your  sceptre of the god and your wreath shall profit you nothing.  I will not free her. She shall grow old in my house at Argos  far from her own home, busying herself with her loom and  visiting my couch; so go, and do not provoke me or it shall  be the worse for you.’ \n",
            "\n",
            "The old man feared him and obeyed. Not a word he spoke,  but went by the shore of the sounding sea and prayed apart  to King Apollo whom lovely Leto had borne. ‘Hear me,’ he  cried, ‘O god of the silver bow, that protectest Chryse and  holy Cilla and rulest Tenedos with thy might, hear me oh  thou of Sminthe. If I have ever decked your temple with gar lands, or burned your thigh-bones in fat of bulls or goats,  grant my prayer, and let your arrows avenge these my tears  upon the Danaans.’ \n",
            "\n",
            "Thus did he pray, and Apollo heard his prayer. He came  down furious from the summits of Olympus, with his bow  and his quiver upon his shoulder, and the arrows rattled on  his back with the rage that trembled within him. He sat him self down away from the ships with a face as dark as night,  and his silver bow rang death as he shot his arrow in the  midst of them. First he smote their mules and their hounds,  but presently he aimed his shafts at the people themselves,  and all day long the pyres of the dead were burning. \n",
            "\n",
            "For nine whole days he shot his arrows among the people,  but upon the tenth day Achilles called them in assembly— moved thereto by Juno, who saw the Achaeans in their \n",
            "\n",
            "Free eBooks at Planet eBook.com   \n",
            "\n",
            "death-throes and\n"
          ]
        }
      ]
    }
  ]
}
